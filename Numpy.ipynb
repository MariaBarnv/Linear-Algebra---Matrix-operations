{
 "cells": [
  {
   "cell_type": "code",
   "execution_count": 0,
   "metadata": {
    "application/vnd.databricks.v1+cell": {
     "cellMetadata": {},
     "inputWidgets": {},
     "nuid": "08936fad-c352-46bc-9660-8adde56e89f9",
     "showTitle": false,
     "tableResultSettingsMap": {},
     "title": ""
    }
   },
   "outputs": [],
   "source": [
    "# Use NumPy to perform the following tasks:\n",
    "# Compute the multiplication of the following matrices:\n",
    "# [[1, 0], [0, 1]]\n",
    "# [[1, 2], [3, 4]]"
   ]
  },
  {
   "cell_type": "code",
   "execution_count": 0,
   "metadata": {
    "application/vnd.databricks.v1+cell": {
     "cellMetadata": {
      "byteLimit": 2048000,
      "rowLimit": 10000
     },
     "inputWidgets": {},
     "nuid": "a011e0ee-e644-4218-a0a9-85e33b2ed818",
     "showTitle": false,
     "tableResultSettingsMap": {},
     "title": ""
    }
   },
   "outputs": [
    {
     "output_type": "stream",
     "name": "stdout",
     "output_type": "stream",
     "text": [
      "Result of matrix multiplication:\n[[1 2]\n [3 4]]\n"
     ]
    }
   ],
   "source": [
    "import numpy as np\n",
    "\n",
    "matrix1 = np.array([[1, 0], [0, 1]])\n",
    "matrix2 = np.array([[1, 2], [3, 4]])\n",
    "result = np.dot(matrix1, matrix2)\n",
    "print(\"Result of matrix multiplication:\")\n",
    "print(result)\n"
   ]
  },
  {
   "cell_type": "code",
   "execution_count": 0,
   "metadata": {
    "application/vnd.databricks.v1+cell": {
     "cellMetadata": {},
     "inputWidgets": {},
     "nuid": "73420926-4041-4f1b-ba9b-25a907534b61",
     "showTitle": false,
     "tableResultSettingsMap": {},
     "title": ""
    }
   },
   "outputs": [],
   "source": [
    "#Generate an array of length 3n filled with the cyclic pattern 1, 2, 3."
   ]
  },
  {
   "cell_type": "code",
   "execution_count": 0,
   "metadata": {
    "application/vnd.databricks.v1+cell": {
     "cellMetadata": {
      "byteLimit": 2048000,
      "rowLimit": 10000
     },
     "inputWidgets": {},
     "nuid": "cfffe1f2-3e78-48c2-8e3d-092c2bd3fbba",
     "showTitle": false,
     "tableResultSettingsMap": {},
     "title": ""
    }
   },
   "outputs": [
    {
     "output_type": "stream",
     "name": "stdout",
     "output_type": "stream",
     "text": [
      "Resulting array:\n[1 2 3 1 2 3 1 2 3]\n"
     ]
    }
   ],
   "source": [
    "n = 3 \n",
    "result_array = np.tile([1, 2, 3], n)\n",
    "print(\"Resulting array:\")\n",
    "print(result_array)"
   ]
  },
  {
   "cell_type": "code",
   "execution_count": 0,
   "metadata": {
    "application/vnd.databricks.v1+cell": {
     "cellMetadata": {},
     "inputWidgets": {},
     "nuid": "5ce14585-214d-4d6f-8e3c-80935801cd6e",
     "showTitle": false,
     "tableResultSettingsMap": {},
     "title": ""
    }
   },
   "outputs": [],
   "source": [
    "#Create a 10×10 matrix of zeros and then \"frame\" it with a border of ones."
   ]
  },
  {
   "cell_type": "code",
   "execution_count": 0,
   "metadata": {
    "application/vnd.databricks.v1+cell": {
     "cellMetadata": {
      "byteLimit": 2048000,
      "rowLimit": 10000
     },
     "inputWidgets": {},
     "nuid": "5b1715f0-9079-46e9-bd18-238c74bc72c1",
     "showTitle": false,
     "tableResultSettingsMap": {},
     "title": ""
    }
   },
   "outputs": [
    {
     "output_type": "stream",
     "name": "stdout",
     "output_type": "stream",
     "text": [
      "Resulting matrix:\n[[1 1 1 1 1 1 1 1 1 1]\n [1 0 0 0 0 0 0 0 0 1]\n [1 0 0 0 0 0 0 0 0 1]\n [1 0 0 0 0 0 0 0 0 1]\n [1 0 0 0 0 0 0 0 0 1]\n [1 0 0 0 0 0 0 0 0 1]\n [1 0 0 0 0 0 0 0 0 1]\n [1 0 0 0 0 0 0 0 0 1]\n [1 0 0 0 0 0 0 0 0 1]\n [1 1 1 1 1 1 1 1 1 1]]\n"
     ]
    }
   ],
   "source": [
    "matrix = np.zeros((10, 10), dtype=int)\n",
    "matrix[0, :] = 1 \n",
    "matrix[-1, :] = 1 \n",
    "matrix[:, 0] = 1 \n",
    "matrix[:, -1] = 1  \n",
    "\n",
    "print(\"Resulting matrix:\")\n",
    "print(matrix)"
   ]
  },
  {
   "cell_type": "code",
   "execution_count": 0,
   "metadata": {
    "application/vnd.databricks.v1+cell": {
     "cellMetadata": {},
     "inputWidgets": {},
     "nuid": "76411577-2c8d-42a0-8d7f-113e068d6129",
     "showTitle": false,
     "tableResultSettingsMap": {},
     "title": ""
    }
   },
   "outputs": [],
   "source": [
    "#Create a random 3×5 array using the np.random.rand(3, 5) function and compute: the sum of all the entries, the sum of the rows and the sum of the columns. (many Numpy functions have an optional axis= argument!)"
   ]
  },
  {
   "cell_type": "code",
   "execution_count": 0,
   "metadata": {
    "application/vnd.databricks.v1+cell": {
     "cellMetadata": {
      "byteLimit": 2048000,
      "rowLimit": 10000
     },
     "inputWidgets": {},
     "nuid": "8416dde7-a5d3-4b97-b3c6-9cf810daefa6",
     "showTitle": false,
     "tableResultSettingsMap": {},
     "title": ""
    }
   },
   "outputs": [
    {
     "output_type": "stream",
     "name": "stdout",
     "output_type": "stream",
     "text": [
      "Random 3x5 array:\n[[0.34527787 0.9773404  0.33984475 0.54490603 0.56215825]\n [0.49945271 0.12541273 0.45631342 0.16163618 0.60224765]\n [0.63998908 0.35561858 0.38483945 0.58230988 0.18335814]]\n\nSum of all entries: 6.76070512344128\n\nSum of the rows:\n[2.76952731 1.84506269 2.14611513]\n\nSum of the columns:\n[1.48471966 1.45837172 1.18099762 1.28885208 1.34776404]\n"
     ]
    }
   ],
   "source": [
    "random_array = np.random.rand(3, 5)\n",
    "print(\"Random 3x5 array:\")\n",
    "print(random_array)\n",
    "\n",
    "total_sum = np.sum(random_array)\n",
    "print(\"\\nSum of all entries:\", total_sum)\n",
    "\n",
    "row_sums = np.sum(random_array, axis=1)\n",
    "print(\"\\nSum of the rows:\")\n",
    "print(row_sums)\n",
    "\n",
    "column_sums = np.sum(random_array, axis=0)\n",
    "print(\"\\nSum of the columns:\")\n",
    "print(column_sums)\n"
   ]
  },
  {
   "cell_type": "code",
   "execution_count": 0,
   "metadata": {
    "application/vnd.databricks.v1+cell": {
     "cellMetadata": {},
     "inputWidgets": {},
     "nuid": "a0996884-2864-46c8-b392-f2da272ff1b6",
     "showTitle": false,
     "tableResultSettingsMap": {},
     "title": ""
    }
   },
   "outputs": [],
   "source": [
    "#Given the following arrays representing logical values (0 = False, 1 = True) compute the logical AND and logical OR operations for every pair of values of the two arrays: [1, 1, 0, 0] [1, 0, 1, 0] Hint: you may need to set the data type (dtype) of the array's elements to 'bool'"
   ]
  },
  {
   "cell_type": "code",
   "execution_count": 0,
   "metadata": {
    "application/vnd.databricks.v1+cell": {
     "cellMetadata": {
      "byteLimit": 2048000,
      "rowLimit": 10000
     },
     "inputWidgets": {},
     "nuid": "6cfd9bee-59ae-4e7e-8213-0d7d9b772a6e",
     "showTitle": false,
     "tableResultSettingsMap": {},
     "title": ""
    }
   },
   "outputs": [
    {
     "output_type": "stream",
     "name": "stdout",
     "output_type": "stream",
     "text": [
      "Array 1: [ True  True False False]\nArray 2: [ True False  True False]\n\nLogical AND result: [ True False False False]\nLogical OR result: [ True  True  True False]\n"
     ]
    }
   ],
   "source": [
    "array1 = np.array([1, 1, 0, 0], dtype=bool)\n",
    "array2 = np.array([1, 0, 1, 0], dtype=bool)\n",
    "\n",
    "logical_and_result = np.logical_and(array1, array2)\n",
    "logical_or_result = np.logical_or(array1, array2)\n",
    "\n",
    "print(\"Array 1:\", array1)\n",
    "print(\"Array 2:\", array2)\n",
    "\n",
    "print(\"\\nLogical AND result:\", logical_and_result)\n",
    "print(\"Logical OR result:\", logical_or_result)"
   ]
  },
  {
   "cell_type": "code",
   "execution_count": 0,
   "metadata": {
    "application/vnd.databricks.v1+cell": {
     "cellMetadata": {},
     "inputWidgets": {},
     "nuid": "72c687b7-432b-46bb-8061-dea1ba0e5a47",
     "showTitle": false,
     "tableResultSettingsMap": {},
     "title": ""
    }
   },
   "outputs": [],
   "source": [
    "#Find indices of non-zero elements from [1, 2, 0, 0, 4, 0]"
   ]
  },
  {
   "cell_type": "code",
   "execution_count": 0,
   "metadata": {
    "application/vnd.databricks.v1+cell": {
     "cellMetadata": {
      "byteLimit": 2048000,
      "rowLimit": 10000
     },
     "inputWidgets": {},
     "nuid": "5c6fde4c-d596-4dc3-80db-0cb2f3536025",
     "showTitle": false,
     "tableResultSettingsMap": {},
     "title": ""
    }
   },
   "outputs": [
    {
     "output_type": "stream",
     "name": "stdout",
     "output_type": "stream",
     "text": [
      "Indices of non-zero elements: (array([0, 1, 4]),)\n"
     ]
    }
   ],
   "source": [
    "arr = np.array([1, 2, 0, 0, 4, 0])\n",
    "nonzero_indices = np.nonzero(arr)\n",
    "\n",
    "print(\"Indices of non-zero elements:\", nonzero_indices)\n"
   ]
  },
  {
   "cell_type": "code",
   "execution_count": 0,
   "metadata": {
    "application/vnd.databricks.v1+cell": {
     "cellMetadata": {},
     "inputWidgets": {},
     "nuid": "c9d4f72f-f676-435b-9e1b-3578a0c2fb5d",
     "showTitle": false,
     "tableResultSettingsMap": {},
     "title": ""
    }
   },
   "outputs": [],
   "source": [
    "#Create a 8×8 array with random values and find minimum and maximum value"
   ]
  },
  {
   "cell_type": "code",
   "execution_count": 0,
   "metadata": {
    "application/vnd.databricks.v1+cell": {
     "cellMetadata": {
      "byteLimit": 2048000,
      "rowLimit": 10000
     },
     "inputWidgets": {},
     "nuid": "277f366a-da3a-412c-8683-98546ad3e5fa",
     "showTitle": false,
     "tableResultSettingsMap": {},
     "title": ""
    }
   },
   "outputs": [
    {
     "output_type": "stream",
     "name": "stdout",
     "output_type": "stream",
     "text": [
      "Random 8x8 array:\n[[0.56361992 0.56929459 0.12316424 0.06950598 0.9025238  0.23492062\n  0.70603824 0.5536764 ]\n [0.142562   0.53840772 0.64861453 0.63901562 0.17504928 0.06636994\n  0.15039704 0.41133175]\n [0.76006886 0.60165689 0.61919213 0.02247826 0.41001093 0.6696161\n  0.258052   0.21846597]\n [0.62685073 0.8933021  0.45002912 0.28613689 0.52518389 0.72215804\n  0.90675232 0.15680084]\n [0.93442938 0.42845861 0.79844447 0.14025868 0.38491921 0.14558803\n  0.60363703 0.30757804]\n [0.58448915 0.44354288 0.48958779 0.02643719 0.48653567 0.36651618\n  0.39195534 0.10688034]\n [0.42621415 0.33689437 0.91759897 0.21922163 0.89831164 0.40892496\n  0.41578508 0.74557119]\n [0.71294127 0.11223949 0.45670542 0.51197272 0.69912773 0.96639194\n  0.86876189 0.76241556]]\n\nMinimum value: 0.02247826189328961\nMaximum value: 0.9663919432491749\n"
     ]
    }
   ],
   "source": [
    "random_array = np.random.rand(8, 8)\n",
    "\n",
    "print(\"Random 8x8 array:\")\n",
    "print(random_array)\n",
    "\n",
    "min_value = np.min(random_array)\n",
    "max_value = np.max(random_array)\n",
    "\n",
    "print(\"\\nMinimum value:\", min_value)\n",
    "print(\"Maximum value:\", max_value)"
   ]
  },
  {
   "cell_type": "code",
   "execution_count": 0,
   "metadata": {
    "application/vnd.databricks.v1+cell": {
     "cellMetadata": {},
     "inputWidgets": {},
     "nuid": "db09f071-8a45-49b3-bdc9-5fba3885c473",
     "showTitle": false,
     "tableResultSettingsMap": {},
     "title": ""
    }
   },
   "outputs": [],
   "source": [
    "#Create a 8×8 array with random natural values from the range (1-100) on the diagonal, other values should be 0. Hint: You can use numpy's 'eye' function."
   ]
  },
  {
   "cell_type": "code",
   "execution_count": 0,
   "metadata": {
    "application/vnd.databricks.v1+cell": {
     "cellMetadata": {
      "byteLimit": 2048000,
      "rowLimit": 10000
     },
     "inputWidgets": {},
     "nuid": "7f25eae8-f9ea-4a1f-9c17-eecf5573b7f0",
     "showTitle": false,
     "tableResultSettingsMap": {},
     "title": ""
    }
   },
   "outputs": [
    {
     "output_type": "stream",
     "name": "stdout",
     "output_type": "stream",
     "text": [
      "Resulting 8x8 array:\n[[15  0  0  0  0  0  0  0]\n [ 0  5  0  0  0  0  0  0]\n [ 0  0 85  0  0  0  0  0]\n [ 0  0  0 10  0  0  0  0]\n [ 0  0  0  0 61  0  0  0]\n [ 0  0  0  0  0 31  0  0]\n [ 0  0  0  0  0  0 21  0]\n [ 0  0  0  0  0  0  0  3]]\n"
     ]
    }
   ],
   "source": [
    "diagonal_matrix = np.eye(8, dtype=int)\n",
    "random_values = np.random.randint(1, 101, size=(8, 8))\n",
    "result_array = diagonal_matrix * random_values\n",
    "\n",
    "print(\"Resulting 8x8 array:\")\n",
    "print(result_array)\n"
   ]
  },
  {
   "cell_type": "code",
   "execution_count": 0,
   "metadata": {
    "application/vnd.databricks.v1+cell": {
     "cellMetadata": {},
     "inputWidgets": {},
     "nuid": "9b09892d-a54b-4acb-b293-6e5ea9a9ac28",
     "showTitle": false,
     "tableResultSettingsMap": {},
     "title": ""
    }
   },
   "outputs": [],
   "source": [
    "#Write a function which creates an n×n matrix with (i,j)-entry equal to i+j."
   ]
  },
  {
   "cell_type": "code",
   "execution_count": 0,
   "metadata": {
    "application/vnd.databricks.v1+cell": {
     "cellMetadata": {
      "byteLimit": 2048000,
      "rowLimit": 10000
     },
     "inputWidgets": {},
     "nuid": "1b15d92a-2e81-438d-a9d6-7f754a97f7a7",
     "showTitle": false,
     "tableResultSettingsMap": {},
     "title": ""
    }
   },
   "outputs": [
    {
     "output_type": "stream",
     "name": "stdout",
     "output_type": "stream",
     "text": [
      "5x5 Matrix with (i, j)-entry equal to i + j:\n[[0 1 2 3 4]\n [1 2 3 4 5]\n [2 3 4 5 6]\n [3 4 5 6 7]\n [4 5 6 7 8]]\n"
     ]
    }
   ],
   "source": [
    "def create_matrix(n):\n",
    "    matrix = np.fromfunction(lambda i, j: i + j, (n, n), dtype=int)\n",
    "    return matrix\n",
    "\n",
    "n = 5 #for example 5x5\n",
    "result_matrix = create_matrix(n)\n",
    "\n",
    "print(f\"{n}x{n} Matrix with (i, j)-entry equal to i + j:\")\n",
    "print(result_matrix)"
   ]
  },
  {
   "cell_type": "code",
   "execution_count": 0,
   "metadata": {
    "application/vnd.databricks.v1+cell": {
     "cellMetadata": {},
     "inputWidgets": {},
     "nuid": "65f045bf-45ab-4f14-af5c-4ebbb783660b",
     "showTitle": false,
     "tableResultSettingsMap": {},
     "title": ""
    }
   },
   "outputs": [],
   "source": [
    "#Write a function which creates an n×n matrix with rows having subsequent values multiplied by the row's number. For example for n = 4:\n",
    "[[0, 1, 2, 3], [0, 2, 4, 6], [0, 3, 6, 9], [0, 4, 8, 12]]"
   ]
  },
  {
   "cell_type": "code",
   "execution_count": 0,
   "metadata": {
    "application/vnd.databricks.v1+cell": {
     "cellMetadata": {
      "byteLimit": 2048000,
      "rowLimit": 10000
     },
     "inputWidgets": {},
     "nuid": "1e3cd3f4-51c3-4087-85aa-153ccf94680a",
     "showTitle": false,
     "tableResultSettingsMap": {},
     "title": ""
    }
   },
   "outputs": [
    {
     "output_type": "stream",
     "name": "stdout",
     "output_type": "stream",
     "text": [
      "4x4 Matrix with rows having subsequent values multiplied by the row's number:\n[[0 0 0 0]\n [0 1 2 3]\n [0 2 4 6]\n [0 3 6 9]]\n"
     ]
    }
   ],
   "source": [
    "def create_matrix(n):r\n",
    "    matrix = np.fromfunction(lambda i, j: i * j, (n, n), dtype=int)\n",
    "    return matrix\n",
    "\n",
    "n = 4\n",
    "result_matrix = create_matrix(n)\n",
    "\n",
    "print(f\"{n}x{n} Matrix with rows having subsequent values multiplied by the row's number:\")\n",
    "print(result_matrix)"
   ]
  }
 ],
 "metadata": {
  "application/vnd.databricks.v1+notebook": {
   "computePreferences": null,
   "dashboards": [],
   "environmentMetadata": null,
   "language": "python",
   "notebookMetadata": {
    "pythonIndentUnit": 4
   },
   "notebookName": "HW Numpy",
   "widgets": {}
  }
 },
 "nbformat": 4,
 "nbformat_minor": 0
}
